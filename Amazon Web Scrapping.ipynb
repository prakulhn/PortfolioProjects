{
 "cells": [
  {
   "cell_type": "code",
   "execution_count": 62,
   "id": "c9bfe015-b90e-4a83-9de9-b78fe892406f",
   "metadata": {},
   "outputs": [],
   "source": [
    "import pandas as pd\n",
    "from bs4 import BeautifulSoup\n",
    "import requests\n",
    "import time\n",
    "import datetime"
   ]
  },
  {
   "cell_type": "code",
   "execution_count": 64,
   "id": "2a3c9a7a-6dd7-4510-99cd-14dc1247687e",
   "metadata": {},
   "outputs": [],
   "source": [
    "url = \"https://www.amazon.in/Lenovo-Smartchoice-i5-12450HX-Graphics-83GS003UIN/dp/B0CX8XPKWJ?pd_rd_w=KyFJ6&content-id=amzn1.sym.6bd3eab7-4745-40de-b598-1eb97182db43&pf_rd_p=6bd3eab7-4745-40de-b598-1eb97182db43&pf_rd_r=BRRWWSM2PKF2NXF2K3R7&pd_rd_wg=bxrtd&pd_rd_r=5dd0bc9d-d099-4b41-b699-31925db2bb16&pd_rd_i=B0CX8XPKWJ&ref_=pd_hp_d_btf_unk_B0CX8XPKWJ&th=1\"\n",
    "headers = {\"User-Agent\": \"Mozilla/5.0 (Windows NT 10.0; Win64; x64) AppleWebKit/537.36 (KHTML, like Gecko) Chrome/129.0.0.0 Safari/537.36\", \"Accept-Encoding\":\"gzip, deflate\", \"Accept\":\"text/html,application/xhtml+xml,application/xml;q=0.9,*/*;q=0.8\", \"DNT\":\"1\",\"Connection\":\"close\", \"Upgrade-Insecure-Requests\":\"1\"}\n",
    "\n",
    "page = requests.get(url)\n",
    "soup1 = BeautifulSoup(page.content, \"html.parser\")\n",
    "soup2 = BeautifulSoup(soup1.prettify(), \"html.parser\")\n",
    "    \n",
    "title = soup2.find(id='productTitle').get_text()\n",
    "price_symbol = soup2.find(class_=\"a-price-symbol\").get_text()\n",
    "price = soup2.find(class_=\"a-price-whole\").get_text()"
   ]
  },
  {
   "cell_type": "code",
   "execution_count": 65,
   "id": "cd123187-3361-4305-9b0b-0ee7668da4ee",
   "metadata": {},
   "outputs": [],
   "source": [
    "title = title.strip()\n",
    "price_symbol = price_symbol.strip()\n",
    "price = price.strip()\n",
    "    \n",
    "import re\n",
    "price = '66,190\\n                                \\n                                 .'\n",
    "pattern = r\"\\d+(?:,\\d+)*\"\n",
    "matches = re.findall(pattern, price)\n",
    "price = ''.join(matches)"
   ]
  },
  {
   "cell_type": "code",
   "execution_count": 66,
   "id": "eb48cd90-3812-4b18-99f4-8f7851b0f36c",
   "metadata": {},
   "outputs": [],
   "source": [
    "today = datetime.date.today()"
   ]
  },
  {
   "cell_type": "code",
   "execution_count": 67,
   "id": "1de0de39-f2f5-4e5b-ac0e-f58ca5c6a621",
   "metadata": {},
   "outputs": [
    {
     "name": "stdout",
     "output_type": "stream",
     "text": [
      "File written successfully!\n",
      "Current working directory: C:\\Users\\acer\n"
     ]
    }
   ],
   "source": [
    "import csv\n",
    "import os\n",
    "\n",
    "header = ['Title', 'Price','Date']\n",
    "data = [title, price, today]\n",
    "\n",
    "try:\n",
    "    with open('AmazonWebScrappingDataset.csv', 'w', newline='', encoding='UTF8') as f:\n",
    "        writer = csv.writer(f)\n",
    "        writer.writerow(header)\n",
    "        writer.writerow(data)\n",
    "    print(\"File written successfully!\")\n",
    "except Exception as e:\n",
    "    print(f\"An error occurred: {e}\")\n",
    "\n",
    "print(\"Current working directory:\", os.getcwd())"
   ]
  },
  {
   "cell_type": "code",
   "execution_count": 68,
   "id": "6b792224-056d-441e-83b7-0efd663a325f",
   "metadata": {},
   "outputs": [
    {
     "data": {
      "text/html": [
       "<div>\n",
       "<style scoped>\n",
       "    .dataframe tbody tr th:only-of-type {\n",
       "        vertical-align: middle;\n",
       "    }\n",
       "\n",
       "    .dataframe tbody tr th {\n",
       "        vertical-align: top;\n",
       "    }\n",
       "\n",
       "    .dataframe thead th {\n",
       "        text-align: right;\n",
       "    }\n",
       "</style>\n",
       "<table border=\"1\" class=\"dataframe\">\n",
       "  <thead>\n",
       "    <tr style=\"text-align: right;\">\n",
       "      <th></th>\n",
       "      <th>Title</th>\n",
       "      <th>Price</th>\n",
       "      <th>Date</th>\n",
       "    </tr>\n",
       "  </thead>\n",
       "  <tbody>\n",
       "    <tr>\n",
       "      <th>0</th>\n",
       "      <td>Lenovo [Smartchoice LOQ 12th Gen Intel Core i5...</td>\n",
       "      <td>66,190</td>\n",
       "      <td>2024-10-07</td>\n",
       "    </tr>\n",
       "  </tbody>\n",
       "</table>\n",
       "</div>"
      ],
      "text/plain": [
       "                                               Title   Price        Date\n",
       "0  Lenovo [Smartchoice LOQ 12th Gen Intel Core i5...  66,190  2024-10-07"
      ]
     },
     "execution_count": 68,
     "metadata": {},
     "output_type": "execute_result"
    }
   ],
   "source": [
    "df = pd.read_csv(r'C:\\Users\\acer\\AmazonWebScrappingDataset.csv')\n",
    "df"
   ]
  },
  {
   "cell_type": "code",
   "execution_count": 78,
   "id": "a9759de4-30fb-44c8-bf7c-d9c1c2c7d3b4",
   "metadata": {},
   "outputs": [],
   "source": [
    "with open('AmazonWebScrappingDataset.csv', 'a+', newline='', encoding='UTF8') as f:\n",
    "    writer=csv.writer(f)\n",
    "    writer.writerow(data)"
   ]
  },
  {
   "cell_type": "code",
   "execution_count": 80,
   "id": "bd2ee9a2-5667-45a2-a90f-d5aab585ce50",
   "metadata": {},
   "outputs": [
    {
     "data": {
      "text/html": [
       "<div>\n",
       "<style scoped>\n",
       "    .dataframe tbody tr th:only-of-type {\n",
       "        vertical-align: middle;\n",
       "    }\n",
       "\n",
       "    .dataframe tbody tr th {\n",
       "        vertical-align: top;\n",
       "    }\n",
       "\n",
       "    .dataframe thead th {\n",
       "        text-align: right;\n",
       "    }\n",
       "</style>\n",
       "<table border=\"1\" class=\"dataframe\">\n",
       "  <thead>\n",
       "    <tr style=\"text-align: right;\">\n",
       "      <th></th>\n",
       "      <th>Title</th>\n",
       "      <th>Price</th>\n",
       "      <th>Date</th>\n",
       "    </tr>\n",
       "  </thead>\n",
       "  <tbody>\n",
       "    <tr>\n",
       "      <th>0</th>\n",
       "      <td>Lenovo [Smartchoice LOQ 12th Gen Intel Core i5...</td>\n",
       "      <td>66,190</td>\n",
       "      <td>2024-10-07</td>\n",
       "    </tr>\n",
       "    <tr>\n",
       "      <th>1</th>\n",
       "      <td>Lenovo [Smartchoice LOQ 12th Gen Intel Core i5...</td>\n",
       "      <td>66,190</td>\n",
       "      <td>2024-10-07</td>\n",
       "    </tr>\n",
       "    <tr>\n",
       "      <th>2</th>\n",
       "      <td>Lenovo [Smartchoice LOQ 12th Gen Intel Core i5...</td>\n",
       "      <td>66,190</td>\n",
       "      <td>2024-10-07</td>\n",
       "    </tr>\n",
       "  </tbody>\n",
       "</table>\n",
       "</div>"
      ],
      "text/plain": [
       "                                               Title   Price        Date\n",
       "0  Lenovo [Smartchoice LOQ 12th Gen Intel Core i5...  66,190  2024-10-07\n",
       "1  Lenovo [Smartchoice LOQ 12th Gen Intel Core i5...  66,190  2024-10-07\n",
       "2  Lenovo [Smartchoice LOQ 12th Gen Intel Core i5...  66,190  2024-10-07"
      ]
     },
     "execution_count": 80,
     "metadata": {},
     "output_type": "execute_result"
    }
   ],
   "source": [
    "df = pd.read_csv(r'C:\\Users\\acer\\AmazonWebScrappingDataset.csv')\n",
    "df"
   ]
  },
  {
   "cell_type": "code",
   "execution_count": null,
   "id": "9a9697c5-ea20-446c-a317-0c03e588f20f",
   "metadata": {},
   "outputs": [],
   "source": []
  },
  {
   "cell_type": "code",
   "execution_count": null,
   "id": "20a2d8dc-8cec-4e71-bf1e-dc1cf94bd355",
   "metadata": {},
   "outputs": [],
   "source": []
  }
 ],
 "metadata": {
  "kernelspec": {
   "display_name": "Python 3 (ipykernel)",
   "language": "python",
   "name": "python3"
  },
  "language_info": {
   "codemirror_mode": {
    "name": "ipython",
    "version": 3
   },
   "file_extension": ".py",
   "mimetype": "text/x-python",
   "name": "python",
   "nbconvert_exporter": "python",
   "pygments_lexer": "ipython3",
   "version": "3.12.4"
  }
 },
 "nbformat": 4,
 "nbformat_minor": 5
}
